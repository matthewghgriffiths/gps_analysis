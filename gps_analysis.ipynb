{
 "cells": [
  {
   "cell_type": "code",
   "execution_count": 4,
   "id": "b7788c31",
   "metadata": {},
   "outputs": [],
   "source": [
    "%load_ext autoreload\n",
    "%autoreload 2"
   ]
  },
  {
   "cell_type": "code",
   "execution_count": 6,
   "id": "60f4d6c5",
   "metadata": {},
   "outputs": [],
   "source": [
    "import gpxpy\n",
    "\n",
    "import numpy as np\n",
    "import pandas as pd\n",
    "import matplotlib.pyplot as plt"
   ]
  },
  {
   "cell_type": "code",
   "execution_count": 7,
   "id": "04535b90",
   "metadata": {},
   "outputs": [],
   "source": [
    "from gps_analysis import geodesy, files, splits, garmin"
   ]
  },
  {
   "cell_type": "code",
   "execution_count": 50,
   "id": "cd96fae3",
   "metadata": {},
   "outputs": [
    {
     "name": "stdout",
     "output_type": "stream",
     "text": [
      "Input your Garmin password: ········\n"
     ]
    }
   ],
   "source": [
    "api = garmin.login(\"imogen@gtsoftware.co.uk\")"
   ]
  },
  {
   "cell_type": "code",
   "execution_count": 53,
   "id": "b431ade5",
   "metadata": {},
   "outputs": [],
   "source": [
    "activities = garmin.get_activities(0, 10, activityType='rowing')"
   ]
  },
  {
   "cell_type": "code",
   "execution_count": 54,
   "id": "294f57ea",
   "metadata": {},
   "outputs": [
    {
     "data": {
      "application/vnd.jupyter.widget-view+json": {
       "model_id": "41ebdb94432b47b7a41c942264146e4d",
       "version_major": 2,
       "version_minor": 0
      },
      "text/plain": [
       "  0%|          | 0/10 [00:00<?, ?it/s]"
      ]
     },
     "metadata": {},
     "output_type": "display_data"
    }
   ],
   "source": [
    "activity_data, errors = garmin.load_activities(activities.activityId)"
   ]
  },
  {
   "cell_type": "code",
   "execution_count": 55,
   "id": "fdca2879",
   "metadata": {},
   "outputs": [],
   "source": [
    "garmin.activity_data_to_excel(activities, activity_data)"
   ]
  },
  {
   "cell_type": "code",
   "execution_count": null,
   "id": "56012153",
   "metadata": {},
   "outputs": [],
   "source": [
    "locations = {\n",
    "    'start': [51.461398172524824, -0.9455592979289794],\n",
    "    '500m': [51.46460471321316, -0.9404994529495201],\n",
    "    '1km': [51.467811036115336, -0.9354388968526993],\n",
    "    '1.5km': [51.47101714117572, -0.930377629505215], \n",
    "    'finish': [51.47420259934778, -0.9253479107461384],\n",
    "}\n",
    "locations = pd.DataFrame.from_dict({\n",
    "    k: {\n",
    "        'latitude': v[0], \n",
    "        'longitude': v[1],\n",
    "        'bearing': geodesy.estimate_bearing(\n",
    "            positions, geodesy.LatLon(*v), 0.05)\n",
    "    } \n",
    "    for k, v in locations.items()\n",
    "},\n",
    "    orient='index')\n",
    "locations.index.name='location'\n",
    "locations.bearing = geodesy.bearing(\n",
    "    locations.loc['start'],\n",
    "    locations.loc['finish']\n",
    ")"
   ]
  },
  {
   "cell_type": "code",
   "execution_count": null,
   "id": "1b1cb7c0",
   "metadata": {},
   "outputs": [],
   "source": [
    "locations.to_csv(\"data/cav_locations.tsv\", sep='\\t')"
   ]
  },
  {
   "cell_type": "code",
   "execution_count": null,
   "id": "e8dd207f",
   "metadata": {},
   "outputs": [],
   "source": [
    "actid = 8026393665\n",
    "actid = 2366290503\n",
    "\n",
    "positions = garmin.load_activity(actid, api=api)"
   ]
  },
  {
   "cell_type": "code",
   "execution_count": null,
   "id": "8015deac",
   "metadata": {},
   "outputs": [],
   "source": [
    "garmin.login('imogen@gtsoftware.co.uk')\n",
    "actid = 2366290503\n",
    "data = garmin.load_fit_activity(actid)"
   ]
  },
  {
   "cell_type": "code",
   "execution_count": null,
   "id": "261a3e50",
   "metadata": {
    "scrolled": false
   },
   "outputs": [],
   "source": []
  },
  {
   "cell_type": "code",
   "execution_count": null,
   "id": "09b75719",
   "metadata": {},
   "outputs": [],
   "source": [
    "data.time.diff(-1)"
   ]
  },
  {
   "cell_type": "code",
   "execution_count": null,
   "id": "a7e5ff8f",
   "metadata": {},
   "outputs": [],
   "source": [
    "best_splits = splits.find_all_best_times(data)"
   ]
  },
  {
   "cell_type": "code",
   "execution_count": null,
   "id": "2b3ffde1",
   "metadata": {},
   "outputs": [],
   "source": [
    "best_splits.loc[\"2km\"]"
   ]
  },
  {
   "cell_type": "code",
   "execution_count": null,
   "id": "d7f72b48",
   "metadata": {},
   "outputs": [],
   "source": [
    "def interval_average_value(locations, label, start_dist, dist):\n",
    "    interval = [start_dist, start_dist + dist]\n",
    "    i0, i1 = locations.distance.searchsorted(interval)\n",
    "    val = locations.loc[i0:i1, label]\n",
    "    times = locations.timeElapsed.dt.total_seconds().copy()\n",
    "    times.loc[[i0, i1 + 1]] = np.interp(interval, locations.distance, times)\n",
    "    weights = -times.loc[i0:i1+1].diff(-1)[:-1]\n",
    "    return np.average(val, weights=weights)\n",
    "\n",
    "interval_average_value(data, 'cadence', 12.041, 2)"
   ]
  },
  {
   "cell_type": "code",
   "execution_count": null,
   "id": "d159ada8",
   "metadata": {},
   "outputs": [],
   "source": [
    "interval_average_value(data, 'cadence', 3.4, 2)"
   ]
  },
  {
   "cell_type": "code",
   "execution_count": null,
   "id": "ea46a99a",
   "metadata": {},
   "outputs": [],
   "source": [
    "data.distance.diff(-1)"
   ]
  },
  {
   "cell_type": "code",
   "execution_count": null,
   "id": "c526bf62",
   "metadata": {},
   "outputs": [],
   "source": [
    "plt.figure()\n",
    "plt.plot(data.distance, data.cadence)"
   ]
  },
  {
   "cell_type": "code",
   "execution_count": null,
   "id": "3a83545c",
   "metadata": {
    "scrolled": true
   },
   "outputs": [],
   "source": [
    "distance = 2\n",
    "dist_splits = best_splits.loc['2km']\n",
    "\n",
    "plt.figure()\n",
    "plt.plot(data.distance, 500/data.speed)\n",
    "plt.plot(data.distance, data.heart_rate)\n",
    "plt.plot(data.distance, data.cadence)\n",
    "\n",
    "for d, s in dist_splits.split.iteritems():\n",
    "    ts = s.total_seconds()\n",
    "    plt.plot([d, d+distance], [ts, ts])\n",
    "    \n",
    "plt.ylim(0, 250)"
   ]
  },
  {
   "cell_type": "code",
   "execution_count": null,
   "id": "499f46d3",
   "metadata": {},
   "outputs": [],
   "source": [
    "activities = garmin.get_activities(activityType='rowing', api=api)\n",
    "activity_data, errors = garmin.load_activities(activities.activityId, api=api)\n",
    "garmin.activity_data_to_excel(activities, activity_data, api=api)"
   ]
  },
  {
   "cell_type": "code",
   "execution_count": null,
   "id": "cd0a890e",
   "metadata": {},
   "outputs": [],
   "source": [
    "activities = garmin.get_activities(activityType='rowing', api=api)\n",
    "activity_data, errors = garmin.load_activities(activities.activityId, api=api)"
   ]
  }
 ],
 "metadata": {
  "kernelspec": {
   "display_name": "Python 3 (ipykernel)",
   "language": "python",
   "name": "python3"
  },
  "language_info": {
   "codemirror_mode": {
    "name": "ipython",
    "version": 3
   },
   "file_extension": ".py",
   "mimetype": "text/x-python",
   "name": "python",
   "nbconvert_exporter": "python",
   "pygments_lexer": "ipython3",
   "version": "3.8.5"
  }
 },
 "nbformat": 4,
 "nbformat_minor": 5
}
