{
 "cells": [
  {
   "cell_type": "code",
   "execution_count": null,
   "id": "6291dd87",
   "metadata": {},
   "outputs": [],
   "source": [
    "%load_ext autoreload\n",
    "%autoreload 2"
   ]
  },
  {
   "cell_type": "code",
   "execution_count": null,
   "id": "66c72889",
   "metadata": {},
   "outputs": [],
   "source": [
    "import gpxpy\n",
    "import ggps\n",
    "import haversine\n",
    "\n",
    "import numpy as np\n",
    "import pandas as pd\n",
    "import matplotlib.pyplot as plt"
   ]
  },
  {
   "cell_type": "code",
   "execution_count": null,
   "id": "4421ab42",
   "metadata": {},
   "outputs": [],
   "source": [
    "from gps_analysis import geodesy, files, splits, garmin"
   ]
  },
  {
   "cell_type": "code",
   "execution_count": null,
   "id": "3ddeaa5f",
   "metadata": {},
   "outputs": [],
   "source": [
    "positions = files.load_gpx(\"activity_768041870.gpx\")\n",
    "locations = pd.read_json('cam_locations.json', orient='index')\n",
    "positions"
   ]
  },
  {
   "cell_type": "code",
   "execution_count": null,
   "id": "7f8b1dae",
   "metadata": {},
   "outputs": [],
   "source": [
    "splits.find_all_best_times(positions).applymap(splits.strfmtsplit)"
   ]
  },
  {
   "cell_type": "code",
   "execution_count": null,
   "id": "5a730d7b",
   "metadata": {},
   "outputs": [],
   "source": [
    "splits.find_best_times(positions, 0.5).applymap(splits.strfmtsplit)"
   ]
  },
  {
   "cell_type": "code",
   "execution_count": null,
   "id": "e3814c17",
   "metadata": {},
   "outputs": [],
   "source": [
    "loc_timings = splits.get_location_timings(positions, locations)\n",
    "loc_timings.loc[('times', 3), ('splits', 3)].applymap(splits.strfsplit)"
   ]
  },
  {
   "cell_type": "code",
   "execution_count": null,
   "id": "583cf882",
   "metadata": {},
   "outputs": [],
   "source": [
    "i, j = np.triu_indices(len(positions), 1)\n",
    "i, j\n",
    "\n",
    "time_diffs = (\n",
    "    positions.timeElapsed[j].dt.total_seconds().values - \n",
    "    positions.timeElapsed[i].dt.total_seconds().values)\n",
    "time_diffs\n",
    "dist_diffs =(\n",
    "    positions.distance[j].values - \n",
    "    positions.distance[i].values)\n",
    "time_diffs\n",
    "speeds = 1000 * np.nan_to_num(dist_diffs / time_diffs)"
   ]
  },
  {
   "cell_type": "code",
   "execution_count": null,
   "id": "10b6c4e5",
   "metadata": {},
   "outputs": [],
   "source": [
    "best_times.groupby('length').split.min()"
   ]
  },
  {
   "cell_type": "code",
   "execution_count": null,
   "id": "102c3bf6",
   "metadata": {},
   "outputs": [],
   "source": [
    "def is_pareto_efficient(costs, return_mask = True):\n",
    "    \"\"\"\n",
    "    Find the pareto-efficient points\n",
    "    :param costs: An (n_points, n_costs) array\n",
    "    :param return_mask: True to return a mask\n",
    "    :return: An array of indices of pareto-efficient points.\n",
    "        If return_mask is True, this will be an (n_points, ) boolean array\n",
    "        Otherwise it will be a (n_efficient_points, ) integer array of indices.\n",
    "    \"\"\"\n",
    "    is_efficient = np.arange(costs.shape[0])\n",
    "    n_points = costs.shape[0]\n",
    "    next_point_index = 0  # Next index in the is_efficient array to search for\n",
    "    while next_point_index<len(costs):\n",
    "        nondominated_point_mask = np.any(costs<costs[next_point_index], axis=1)\n",
    "        nondominated_point_mask[next_point_index] = True\n",
    "        is_efficient = is_efficient[nondominated_point_mask]  # Remove dominated points\n",
    "        costs = costs[nondominated_point_mask]\n",
    "        next_point_index = np.sum(nondominated_point_mask[:next_point_index])+1\n",
    "    \n",
    "    if return_mask:\n",
    "        is_efficient_mask = np.zeros(n_points, dtype = bool)\n",
    "        is_efficient_mask[is_efficient] = True\n",
    "        return is_efficient_mask\n",
    "    else:\n",
    "        return is_efficient"
   ]
  },
  {
   "cell_type": "code",
   "execution_count": null,
   "id": "26ca40a7",
   "metadata": {
    "scrolled": true
   },
   "outputs": [],
   "source": [
    "mask = is_pareto_efficient(np.c_[-dist_diffs, -speeds])\n",
    "\n",
    "plt.scatter(\n",
    "    dist_diffs[mask],\n",
    "    speeds[mask]\n",
    ")"
   ]
  },
  {
   "cell_type": "code",
   "execution_count": null,
   "id": "2e5f059f",
   "metadata": {},
   "outputs": [],
   "source": [
    "plt.plot(positions.longitude, positions.latitude)"
   ]
  },
  {
   "cell_type": "code",
   "execution_count": null,
   "id": "ec98b593",
   "metadata": {},
   "outputs": [],
   "source": [
    "api = garmin.login(\"imogen@gtsoftware.co.uk\")"
   ]
  },
  {
   "cell_type": "code",
   "execution_count": null,
   "id": "22c9896f",
   "metadata": {},
   "outputs": [],
   "source": [
    "activities = garmin.get_activities(0, 1)"
   ]
  },
  {
   "cell_type": "code",
   "execution_count": null,
   "id": "fcfcc3ab",
   "metadata": {},
   "outputs": [],
   "source": [
    "positions = garmin.load_fit_activity(activities.activityId[0])\n",
    "positions"
   ]
  },
  {
   "cell_type": "code",
   "execution_count": null,
   "id": "9d6855d4",
   "metadata": {},
   "outputs": [],
   "source": [
    "locations = splits.load_locations()\n",
    "locations"
   ]
  },
  {
   "cell_type": "code",
   "execution_count": null,
   "id": "5a92110b",
   "metadata": {},
   "outputs": [],
   "source": [
    "pd.concat?"
   ]
  },
  {
   "cell_type": "code",
   "execution_count": null,
   "id": "552ad4e8",
   "metadata": {},
   "outputs": [],
   "source": [
    "pd.read_csv(\"data/ely_locations.csv\").to_csv(\n",
    "    \"data/ely_locations.tsv\", sep='\\t', index=False\n",
    ")"
   ]
  },
  {
   "cell_type": "code",
   "execution_count": null,
   "id": "1e3cd9ab",
   "metadata": {},
   "outputs": [],
   "source": [
    "pd.concat([\n",
    "    pd.read_csv(\"data/ely_locations.csv\", index_col=0),\n",
    "    pd.read_csv(\"data/cam_locations.csv\", index_col=0),\n",
    "    locations\n",
    "])"
   ]
  },
  {
   "cell_type": "code",
   "execution_count": null,
   "id": "5b95f2f1",
   "metadata": {},
   "outputs": [],
   "source": [
    "cav_locations = {\n",
    "    'start': [51.461398172524824, -0.9455592979289794],\n",
    "    'finish': [51.47420259934778, -0.9253479107461384],\n",
    "}"
   ]
  },
  {
   "cell_type": "code",
   "execution_count": null,
   "id": "157f01b7",
   "metadata": {},
   "outputs": [],
   "source": [
    "locations = {\n",
    "    'start': [51.461398172524824, -0.9455592979289794],\n",
    "    '500m': [51.46460471321316, -0.9404994529495201],\n",
    "    '1km': [51.467811036115336, -0.9354388968526993],\n",
    "    '1.5km': [51.47101714117572, -0.930377629505215], \n",
    "    'finish': [51.47420259934778, -0.9253479107461384],\n",
    "}\n",
    "locations = pd.DataFrame.from_dict({\n",
    "    k: {\n",
    "        'latitude': v[0], \n",
    "        'longitude': v[1],\n",
    "        'bearing': geodesy.estimate_bearing(\n",
    "            positions, geodesy.LatLon(*v), 0.05)\n",
    "    } \n",
    "    for k, v in locations.items()\n",
    "},\n",
    "    orient='index')\n",
    "locations.index.name='location'\n",
    "locations.bearing = geodesy.bearing(\n",
    "    locations.loc['start'],\n",
    "    locations.loc['finish']\n",
    ")"
   ]
  },
  {
   "cell_type": "code",
   "execution_count": null,
   "id": "bb4132ef",
   "metadata": {},
   "outputs": [],
   "source": [
    "locations.to_csv(\"data/cav_locations.tsv\", sep='\\t')"
   ]
  },
  {
   "cell_type": "code",
   "execution_count": null,
   "id": "06379094",
   "metadata": {},
   "outputs": [],
   "source": [
    "timings = splits.get_location_timings(positions)\n",
    "timings.applymap(splits.strfsplit).to_excel(\"timings.xlsx\")"
   ]
  },
  {
   "cell_type": "code",
   "execution_count": null,
   "id": "15564e93",
   "metadata": {},
   "outputs": [],
   "source": [
    "splits.find_all_crossing_times(positions)"
   ]
  },
  {
   "cell_type": "code",
   "execution_count": null,
   "id": "539f57c5",
   "metadata": {},
   "outputs": [],
   "source": [
    "locations.bearing = geodesy.bearing(\n",
    "    locations.loc['start'],\n",
    "    locations.loc['finish']\n",
    ")"
   ]
  },
  {
   "cell_type": "code",
   "execution_count": null,
   "id": "d37aad4c",
   "metadata": {},
   "outputs": [],
   "source": [
    "geodesy.haversine_km(locations, locations.shift())"
   ]
  },
  {
   "cell_type": "code",
   "execution_count": null,
   "id": "621988d5",
   "metadata": {},
   "outputs": [],
   "source": [
    "geodesy.haversine_km(\n",
    "    locations,\n",
    "    start \n",
    ")"
   ]
  },
  {
   "cell_type": "code",
   "execution_count": null,
   "id": "2b1b5afd",
   "metadata": {},
   "outputs": [],
   "source": [
    "start = geodesy.follow_bearing(\n",
    "    locations.loc['finish'],\n",
    "    -2.\n",
    ").to_latlon()\n",
    "tuple(start)"
   ]
  },
  {
   "cell_type": "code",
   "execution_count": null,
   "id": "b28404df",
   "metadata": {},
   "outputs": [],
   "source": [
    "pos = geodesy.follow_bearing(\n",
    "    locations.loc['start'],\n",
    "    1.5\n",
    ").to_latlon()\n",
    "tuple(pos)"
   ]
  },
  {
   "cell_type": "code",
   "execution_count": null,
   "id": "416b759b",
   "metadata": {},
   "outputs": [],
   "source": [
    "geodesy.bearing(\n",
    "    locations.loc['start'],\n",
    "    locations.loc['finish'])"
   ]
  },
  {
   "cell_type": "code",
   "execution_count": null,
   "id": "56c41f22",
   "metadata": {},
   "outputs": [],
   "source": [
    "cav_locations = {\n",
    "    'start': [51.46108381769548, -0.9450516671209354],\n",
    "    'finish':\n",
    "}"
   ]
  },
  {
   "cell_type": "code",
   "execution_count": null,
   "id": "b9a4f274",
   "metadata": {},
   "outputs": [],
   "source": [
    "plt.figure()\n",
    "plt.plot(positions.longitude, positions.latitude)\n",
    "\n",
    "plt.show()"
   ]
  },
  {
   "cell_type": "code",
   "execution_count": null,
   "id": "97bd1539",
   "metadata": {},
   "outputs": [],
   "source": []
  },
  {
   "cell_type": "code",
   "execution_count": null,
   "id": "2053f8fe",
   "metadata": {},
   "outputs": [],
   "source": [
    "actid = 8026393665\n",
    "actid = 2366290503\n",
    "\n",
    "positions = garmin.load_activity(actid, api=api)"
   ]
  },
  {
   "cell_type": "code",
   "execution_count": null,
   "id": "e2b9a94a",
   "metadata": {},
   "outputs": [],
   "source": [
    "garmin.login('imogen@gtsoftware.co.uk')\n",
    "actid = 2366290503\n",
    "data = garmin.load_fit_activity(actid)"
   ]
  },
  {
   "cell_type": "code",
   "execution_count": null,
   "id": "a4e7573e",
   "metadata": {
    "scrolled": false
   },
   "outputs": [],
   "source": []
  },
  {
   "cell_type": "code",
   "execution_count": null,
   "id": "7472d0bf",
   "metadata": {},
   "outputs": [],
   "source": [
    "data.time.diff(-1)"
   ]
  },
  {
   "cell_type": "code",
   "execution_count": null,
   "id": "aee988d2",
   "metadata": {},
   "outputs": [],
   "source": [
    "best_splits = splits.find_all_best_times(data)"
   ]
  },
  {
   "cell_type": "code",
   "execution_count": null,
   "id": "3ea67d6b",
   "metadata": {},
   "outputs": [],
   "source": [
    "best_splits.loc[\"2km\"]"
   ]
  },
  {
   "cell_type": "code",
   "execution_count": null,
   "id": "7e77a69d",
   "metadata": {},
   "outputs": [],
   "source": [
    "def interval_average_value(locations, label, start_dist, dist):\n",
    "    interval = [start_dist, start_dist + dist]\n",
    "    i0, i1 = locations.distance.searchsorted(interval)\n",
    "    val = locations.loc[i0:i1, label]\n",
    "    times = locations.timeElapsed.dt.total_seconds().copy()\n",
    "    times.loc[[i0, i1 + 1]] = np.interp(interval, locations.distance, times)\n",
    "    weights = -times.loc[i0:i1+1].diff(-1)[:-1]\n",
    "    return np.average(val, weights=weights)\n",
    "\n",
    "interval_average_value(data, 'cadence', 12.041, 2)"
   ]
  },
  {
   "cell_type": "code",
   "execution_count": null,
   "id": "0d8de243",
   "metadata": {},
   "outputs": [],
   "source": [
    "interval_average_value(data, 'cadence', 3.4, 2)"
   ]
  },
  {
   "cell_type": "code",
   "execution_count": null,
   "id": "d1a5d076",
   "metadata": {},
   "outputs": [],
   "source": [
    "data.distance.diff(-1)"
   ]
  },
  {
   "cell_type": "code",
   "execution_count": null,
   "id": "04ec6984",
   "metadata": {},
   "outputs": [],
   "source": [
    "plt.figure()\n",
    "plt.plot(data.distance, data.cadence)"
   ]
  },
  {
   "cell_type": "code",
   "execution_count": null,
   "id": "52d25089",
   "metadata": {
    "scrolled": true
   },
   "outputs": [],
   "source": [
    "distance = 2\n",
    "dist_splits = best_splits.loc['2km']\n",
    "\n",
    "plt.figure()\n",
    "plt.plot(data.distance, 500/data.speed)\n",
    "plt.plot(data.distance, data.heart_rate)\n",
    "plt.plot(data.distance, data.cadence)\n",
    "\n",
    "for d, s in dist_splits.split.iteritems():\n",
    "    ts = s.total_seconds()\n",
    "    plt.plot([d, d+distance], [ts, ts])\n",
    "    \n",
    "plt.ylim(0, 250)"
   ]
  },
  {
   "cell_type": "code",
   "execution_count": null,
   "id": "220a474c",
   "metadata": {},
   "outputs": [],
   "source": [
    "activities = garmin.get_activities(activityType='rowing', api=api)\n",
    "activity_data, errors = garmin.load_activities(activities.activityId, api=api)\n",
    "garmin.activity_data_to_excel(activities, activity_data, api=api)"
   ]
  },
  {
   "cell_type": "code",
   "execution_count": null,
   "id": "4ae6edb9",
   "metadata": {},
   "outputs": [],
   "source": [
    "activities = garmin.get_activities(activityType='rowing', api=api)\n",
    "activity_data, errors = garmin.load_activities(activities.activityId, api=api)"
   ]
  }
 ],
 "metadata": {
  "kernelspec": {
   "display_name": "Python 3 (ipykernel)",
   "language": "python",
   "name": "python3"
  },
  "language_info": {
   "codemirror_mode": {
    "name": "ipython",
    "version": 3
   },
   "file_extension": ".py",
   "mimetype": "text/x-python",
   "name": "python",
   "nbconvert_exporter": "python",
   "pygments_lexer": "ipython3",
   "version": "3.8.5"
  }
 },
 "nbformat": 4,
 "nbformat_minor": 5
}
