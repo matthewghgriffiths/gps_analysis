{
 "cells": [
  {
   "cell_type": "code",
   "execution_count": 159,
   "id": "03585325",
   "metadata": {},
   "outputs": [],
   "source": [
    "%load_ext autoreload\n",
    "%autoreload 2"
   ]
  },
  {
   "cell_type": "code",
   "execution_count": 303,
   "id": "ebbcbb28",
   "metadata": {},
   "outputs": [],
   "source": [
    "import gpxpy\n",
    "import ggps\n",
    "import haversine\n",
    "\n",
    "import numpy as np\n",
    "import pandas as pd\n",
    "import matplotlib.pyplot as plt"
   ]
  },
  {
   "cell_type": "code",
   "execution_count": 304,
   "id": "8debf2b8",
   "metadata": {},
   "outputs": [],
   "source": [
    "from gps_analysis import sphere, files, splits"
   ]
  },
  {
   "cell_type": "code",
   "execution_count": 484,
   "id": "95fe2dd0",
   "metadata": {},
   "outputs": [
    {
     "data": {
      "text/html": [
       "<div>\n",
       "<style scoped>\n",
       "    .dataframe tbody tr th:only-of-type {\n",
       "        vertical-align: middle;\n",
       "    }\n",
       "\n",
       "    .dataframe tbody tr th {\n",
       "        vertical-align: top;\n",
       "    }\n",
       "\n",
       "    .dataframe thead th {\n",
       "        text-align: right;\n",
       "    }\n",
       "</style>\n",
       "<table border=\"1\" class=\"dataframe\">\n",
       "  <thead>\n",
       "    <tr style=\"text-align: right;\">\n",
       "      <th></th>\n",
       "      <th>latitude</th>\n",
       "      <th>longitude</th>\n",
       "      <th>time</th>\n",
       "      <th>timeElapsed</th>\n",
       "      <th>distanceDelta</th>\n",
       "      <th>distance</th>\n",
       "      <th>bearing_r</th>\n",
       "      <th>bearing</th>\n",
       "    </tr>\n",
       "  </thead>\n",
       "  <tbody>\n",
       "    <tr>\n",
       "      <th>0</th>\n",
       "      <td>52.211003</td>\n",
       "      <td>0.130434</td>\n",
       "      <td>2015-05-07 17:17:16+00:00</td>\n",
       "      <td>0 days 00:00:00</td>\n",
       "      <td>0.000000</td>\n",
       "      <td>0.000000</td>\n",
       "      <td>-2.947566</td>\n",
       "      <td>-168.883087</td>\n",
       "    </tr>\n",
       "    <tr>\n",
       "      <th>1</th>\n",
       "      <td>52.211131</td>\n",
       "      <td>0.130475</td>\n",
       "      <td>2015-05-07 17:18:48+00:00</td>\n",
       "      <td>0 days 00:01:32</td>\n",
       "      <td>0.014514</td>\n",
       "      <td>0.014514</td>\n",
       "      <td>-2.947566</td>\n",
       "      <td>-168.883087</td>\n",
       "    </tr>\n",
       "    <tr>\n",
       "      <th>2</th>\n",
       "      <td>52.211091</td>\n",
       "      <td>0.130508</td>\n",
       "      <td>2015-05-07 17:19:05+00:00</td>\n",
       "      <td>0 days 00:01:49</td>\n",
       "      <td>0.005001</td>\n",
       "      <td>0.019515</td>\n",
       "      <td>-0.475673</td>\n",
       "      <td>-27.254082</td>\n",
       "    </tr>\n",
       "    <tr>\n",
       "      <th>3</th>\n",
       "      <td>52.211024</td>\n",
       "      <td>0.130640</td>\n",
       "      <td>2015-05-07 17:19:12+00:00</td>\n",
       "      <td>0 days 00:01:56</td>\n",
       "      <td>0.011685</td>\n",
       "      <td>0.031200</td>\n",
       "      <td>-0.877730</td>\n",
       "      <td>-50.290213</td>\n",
       "    </tr>\n",
       "    <tr>\n",
       "      <th>4</th>\n",
       "      <td>52.210954</td>\n",
       "      <td>0.130768</td>\n",
       "      <td>2015-05-07 17:19:17+00:00</td>\n",
       "      <td>0 days 00:02:01</td>\n",
       "      <td>0.011636</td>\n",
       "      <td>0.042836</td>\n",
       "      <td>-0.845724</td>\n",
       "      <td>-48.456416</td>\n",
       "    </tr>\n",
       "    <tr>\n",
       "      <th>...</th>\n",
       "      <td>...</td>\n",
       "      <td>...</td>\n",
       "      <td>...</td>\n",
       "      <td>...</td>\n",
       "      <td>...</td>\n",
       "      <td>...</td>\n",
       "      <td>...</td>\n",
       "      <td>...</td>\n",
       "    </tr>\n",
       "    <tr>\n",
       "      <th>563</th>\n",
       "      <td>52.210635</td>\n",
       "      <td>0.131943</td>\n",
       "      <td>2015-05-07 18:21:05+00:00</td>\n",
       "      <td>0 days 01:03:49</td>\n",
       "      <td>0.020048</td>\n",
       "      <td>9.365145</td>\n",
       "      <td>1.865600</td>\n",
       "      <td>106.891014</td>\n",
       "    </tr>\n",
       "    <tr>\n",
       "      <th>564</th>\n",
       "      <td>52.210705</td>\n",
       "      <td>0.131614</td>\n",
       "      <td>2015-05-07 18:21:11+00:00</td>\n",
       "      <td>0 days 01:03:55</td>\n",
       "      <td>0.023716</td>\n",
       "      <td>9.388861</td>\n",
       "      <td>1.902649</td>\n",
       "      <td>109.013765</td>\n",
       "    </tr>\n",
       "    <tr>\n",
       "      <th>565</th>\n",
       "      <td>52.210758</td>\n",
       "      <td>0.131396</td>\n",
       "      <td>2015-05-07 18:21:15+00:00</td>\n",
       "      <td>0 days 01:03:59</td>\n",
       "      <td>0.016004</td>\n",
       "      <td>9.404865</td>\n",
       "      <td>1.952104</td>\n",
       "      <td>111.847345</td>\n",
       "    </tr>\n",
       "    <tr>\n",
       "      <th>566</th>\n",
       "      <td>52.210850</td>\n",
       "      <td>0.131081</td>\n",
       "      <td>2015-05-07 18:21:21+00:00</td>\n",
       "      <td>0 days 01:04:05</td>\n",
       "      <td>0.023780</td>\n",
       "      <td>9.428645</td>\n",
       "      <td>2.016539</td>\n",
       "      <td>115.539184</td>\n",
       "    </tr>\n",
       "    <tr>\n",
       "      <th>567</th>\n",
       "      <td>52.210939</td>\n",
       "      <td>0.130838</td>\n",
       "      <td>2015-05-07 18:21:26+00:00</td>\n",
       "      <td>0 days 01:04:10</td>\n",
       "      <td>0.019260</td>\n",
       "      <td>9.447905</td>\n",
       "      <td>2.109406</td>\n",
       "      <td>120.860037</td>\n",
       "    </tr>\n",
       "  </tbody>\n",
       "</table>\n",
       "<p>568 rows × 8 columns</p>\n",
       "</div>"
      ],
      "text/plain": [
       "      latitude  longitude                      time     timeElapsed  \\\n",
       "0    52.211003   0.130434 2015-05-07 17:17:16+00:00 0 days 00:00:00   \n",
       "1    52.211131   0.130475 2015-05-07 17:18:48+00:00 0 days 00:01:32   \n",
       "2    52.211091   0.130508 2015-05-07 17:19:05+00:00 0 days 00:01:49   \n",
       "3    52.211024   0.130640 2015-05-07 17:19:12+00:00 0 days 00:01:56   \n",
       "4    52.210954   0.130768 2015-05-07 17:19:17+00:00 0 days 00:02:01   \n",
       "..         ...        ...                       ...             ...   \n",
       "563  52.210635   0.131943 2015-05-07 18:21:05+00:00 0 days 01:03:49   \n",
       "564  52.210705   0.131614 2015-05-07 18:21:11+00:00 0 days 01:03:55   \n",
       "565  52.210758   0.131396 2015-05-07 18:21:15+00:00 0 days 01:03:59   \n",
       "566  52.210850   0.131081 2015-05-07 18:21:21+00:00 0 days 01:04:05   \n",
       "567  52.210939   0.130838 2015-05-07 18:21:26+00:00 0 days 01:04:10   \n",
       "\n",
       "     distanceDelta  distance  bearing_r     bearing  \n",
       "0         0.000000  0.000000  -2.947566 -168.883087  \n",
       "1         0.014514  0.014514  -2.947566 -168.883087  \n",
       "2         0.005001  0.019515  -0.475673  -27.254082  \n",
       "3         0.011685  0.031200  -0.877730  -50.290213  \n",
       "4         0.011636  0.042836  -0.845724  -48.456416  \n",
       "..             ...       ...        ...         ...  \n",
       "563       0.020048  9.365145   1.865600  106.891014  \n",
       "564       0.023716  9.388861   1.902649  109.013765  \n",
       "565       0.016004  9.404865   1.952104  111.847345  \n",
       "566       0.023780  9.428645   2.016539  115.539184  \n",
       "567       0.019260  9.447905   2.109406  120.860037  \n",
       "\n",
       "[568 rows x 8 columns]"
      ]
     },
     "execution_count": 484,
     "metadata": {},
     "output_type": "execute_result"
    }
   ],
   "source": [
    "positions = files.load_gpx(\"activity_768041870.gpx\")\n",
    "locations = pd.read_json('cam_locations.json', orient='index')\n",
    "positions"
   ]
  },
  {
   "cell_type": "code",
   "execution_count": 536,
   "id": "652fd7c6",
   "metadata": {},
   "outputs": [
    {
     "data": {
      "text/plain": [
       "{'outflow': 240   2015-05-07 17:41:37.683686942+00:00\n",
       " 331   2015-05-07 17:59:05.496169810+00:00\n",
       " dtype: datetime64[ns, SimpleTZ(\"Z\")],\n",
       " 'headstation': 228   2015-05-07 17:40:34.766991264+00:00\n",
       " 344   2015-05-07 18:00:15.261656924+00:00\n",
       " dtype: datetime64[ns, SimpleTZ(\"Z\")],\n",
       " 'entry_firstpost': 221   2015-05-07 17:39:56.320649027+00:00\n",
       " 350   2015-05-07 18:00:45.450465533+00:00\n",
       " dtype: datetime64[ns, SimpleTZ(\"Z\")],\n",
       " 'exit_firstpost': 212   2015-05-07 17:39:13.612220616+00:00\n",
       " 361   2015-05-07 18:01:43.888163262+00:00\n",
       " dtype: datetime64[ns, SimpleTZ(\"Z\")],\n",
       " 'entry_grassy': 204   2015-05-07 17:38:28.997228765+00:00\n",
       " 371   2015-05-07 18:02:47.508992825+00:00\n",
       " dtype: datetime64[ns, SimpleTZ(\"Z\")],\n",
       " 'exit_grassy': 197   2015-05-07 17:37:51.152127930+00:00\n",
       " 379   2015-05-07 18:03:17.139750910+00:00\n",
       " dtype: datetime64[ns, SimpleTZ(\"Z\")],\n",
       " 'plough': 187   2015-05-07 17:36:52.360354060+00:00\n",
       " 391   2015-05-07 18:04:20.459573764+00:00\n",
       " dtype: datetime64[ns, SimpleTZ(\"Z\")],\n",
       " 'entry_ditton': 186   2015-05-07 17:36:48.434439406+00:00\n",
       " 393   2015-05-07 18:04:31.564459564+00:00\n",
       " dtype: datetime64[ns, SimpleTZ(\"Z\")],\n",
       " 'exit_ditton': 172             2015-05-07 17:35:47+00:00\n",
       " 405   2015-05-07 18:05:31.550939127+00:00\n",
       " dtype: datetime64[ns, SimpleTZ(\"Z\")],\n",
       " 'upstream_post': 164   2015-05-07 17:35:07.635416657+00:00\n",
       " 412   2015-05-07 18:06:05.336954083+00:00\n",
       " dtype: datetime64[ns, SimpleTZ(\"Z\")],\n",
       " 'railings': 161   2015-05-07 17:34:52.301407765+00:00\n",
       " 415   2015-05-07 18:06:21.198824650+00:00\n",
       " dtype: datetime64[ns, SimpleTZ(\"Z\")],\n",
       " 'fivepost': 141   2015-05-07 17:33:10.345127321+00:00\n",
       " 439   2015-05-07 18:08:13.689480636+00:00\n",
       " dtype: datetime64[ns, SimpleTZ(\"Z\")],\n",
       " 'railway': 141   2015-05-07 17:33:11.632195586+00:00\n",
       " 440   2015-05-07 18:08:19.188821059+00:00\n",
       " dtype: datetime64[ns, SimpleTZ(\"Z\")],\n",
       " 'path_split': 130   2015-05-07 17:32:20.448576841+00:00\n",
       " 451   2015-05-07 18:09:10.434411940+00:00\n",
       " dtype: datetime64[ns, SimpleTZ(\"Z\")],\n",
       " 'morleys_holt': 127   2015-05-07 17:32:04.456030819+00:00\n",
       " 455   2015-05-07 18:09:31.627194835+00:00\n",
       " dtype: datetime64[ns, SimpleTZ(\"Z\")],\n",
       " 'peters_post': 113   2015-05-07 17:29:12.132903147+00:00\n",
       " 464   2015-05-07 18:10:21.223268411+00:00\n",
       " dtype: datetime64[ns, SimpleTZ(\"Z\")],\n",
       " 'top_finish': 101   2015-05-07 17:28:08.675724635+00:00\n",
       " 480   2015-05-07 18:14:31.207323163+00:00\n",
       " dtype: datetime64[ns, SimpleTZ(\"Z\")]}"
      ]
     },
     "execution_count": 536,
     "metadata": {},
     "output_type": "execute_result"
    }
   ],
   "source": [
    "loc_times = {\n",
    "    loc: sphere.find_crossing_times(positions, pos)\n",
    "    for loc, pos in locations.iterrows()\n",
    "}\n",
    "loc_times"
   ]
  },
  {
   "cell_type": "code",
   "execution_count": 335,
   "id": "9d022844",
   "metadata": {},
   "outputs": [
    {
     "name": "stderr",
     "output_type": "stream",
     "text": [
      "/tmp/ipykernel_654/1754248165.py:12: RuntimeWarning: invalid value encountered in true_divide\n",
      "  speeds = 1000 * np.nan_to_num(dist_diffs / time_diffs)\n"
     ]
    }
   ],
   "source": [
    "i, j = np.triu_indices(len(positions), 1)\n",
    "i, j\n",
    "\n",
    "time_diffs = (\n",
    "    positions.timeElapsed[j].dt.total_seconds().values - \n",
    "    positions.timeElapsed[i].dt.total_seconds().values)\n",
    "time_diffs\n",
    "dist_diffs =(\n",
    "    positions.distance[j].values - \n",
    "    positions.distance[i].values)\n",
    "time_diffs\n",
    "speeds = 1000 * np.nan_to_num(dist_diffs / time_diffs)"
   ]
  },
  {
   "cell_type": "code",
   "execution_count": 338,
   "id": "078a0b10",
   "metadata": {},
   "outputs": [
    {
     "data": {
      "text/plain": [
       "<matplotlib.collections.PathCollection at 0x7f07107c8d60>"
      ]
     },
     "execution_count": 338,
     "metadata": {},
     "output_type": "execute_result"
    },
    {
     "data": {
      "image/png": "[encoded data removed]",
      "text/plain": [
       "<Figure size 432x288 with 1 Axes>"
      ]
     },
     "metadata": {
      "needs_background": "light"
     },
     "output_type": "display_data"
    }
   ],
   "source": [
    "mask = is_pareto_efficient(np.c_[-dist_diffs, -speeds])\n",
    "\n",
    "plt.scatter(\n",
    "    dist_diffs[mask],\n",
    "    speeds[mask]\n",
    ")"
   ]
  },
  {
   "cell_type": "code",
   "execution_count": 307,
   "id": "9e702ab6",
   "metadata": {},
   "outputs": [],
   "source": [
    "def is_pareto_efficient(costs, return_mask = True):\n",
    "    \"\"\"\n",
    "    Find the pareto-efficient points\n",
    "    :param costs: An (n_points, n_costs) array\n",
    "    :param return_mask: True to return a mask\n",
    "    :return: An array of indices of pareto-efficient points.\n",
    "        If return_mask is True, this will be an (n_points, ) boolean array\n",
    "        Otherwise it will be a (n_efficient_points, ) integer array of indices.\n",
    "    \"\"\"\n",
    "    is_efficient = np.arange(costs.shape[0])\n",
    "    n_points = costs.shape[0]\n",
    "    next_point_index = 0  # Next index in the is_efficient array to search for\n",
    "    while next_point_index<len(costs):\n",
    "        nondominated_point_mask = np.any(costs<costs[next_point_index], axis=1)\n",
    "        nondominated_point_mask[next_point_index] = True\n",
    "        is_efficient = is_efficient[nondominated_point_mask]  # Remove dominated points\n",
    "        costs = costs[nondominated_point_mask]\n",
    "        next_point_index = np.sum(nondominated_point_mask[:next_point_index])+1\n",
    "    \n",
    "    if return_mask:\n",
    "        is_efficient_mask = np.zeros(n_points, dtype = bool)\n",
    "        is_efficient_mask[is_efficient] = True\n",
    "        return is_efficient_mask\n",
    "    else:\n",
    "        return is_efficient"
   ]
  },
  {
   "cell_type": "code",
   "execution_count": 286,
   "id": "61e45c77",
   "metadata": {},
   "outputs": [
    {
     "data": {
      "text/plain": [
       "[<matplotlib.lines.Line2D at 0x7f07148e7760>]"
      ]
     },
     "execution_count": 286,
     "metadata": {},
     "output_type": "execute_result"
    },
    {
     "data": {
      "image/png": "[encoded data removed]",
      "text/plain": [
       "<Figure size 432x288 with 1 Axes>"
      ]
     },
     "metadata": {
      "needs_background": "light"
     },
     "output_type": "display_data"
    }
   ],
   "source": [
    "plt.plot(positions.longitude, positions.latitude)"
   ]
  }
 ],
 "metadata": {
  "kernelspec": {
   "display_name": "Python 3 (ipykernel)",
   "language": "python",
   "name": "python3"
  },
  "language_info": {
   "codemirror_mode": {
    "name": "ipython",
    "version": 3
   },
   "file_extension": ".py",
   "mimetype": "text/x-python",
   "name": "python",
   "nbconvert_exporter": "python",
   "pygments_lexer": "ipython3",
   "version": "3.8.5"
  }
 },
 "nbformat": 4,
 "nbformat_minor": 5
}
